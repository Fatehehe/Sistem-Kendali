{
  "nbformat": 4,
  "nbformat_minor": 0,
  "metadata": {
    "colab": {
      "provenance": []
    },
    "kernelspec": {
      "name": "python3",
      "display_name": "Python 3"
    },
    "language_info": {
      "name": "python"
    }
  },
  "cells": [
    {
      "cell_type": "markdown",
      "source": [
        "- **Nama** : Fatakhillah Khaqo\n",
        "- **NIM** : 21/482696/PA/21041\n",
        "- **MK** : Sistem Kendali"
      ],
      "metadata": {
        "id": "LswZQw3hiE1a"
      }
    },
    {
      "cell_type": "code",
      "execution_count": null,
      "metadata": {
        "id": "bAMBdyuRecte"
      },
      "outputs": [],
      "source": [
        "import numpy\n",
        "import matplotlib.pyplot as plt\n",
        "%matplotlib inline"
      ]
    },
    {
      "cell_type": "code",
      "source": [
        "K = 1\n",
        "tau = 5"
      ],
      "metadata": {
        "id": "wWA7CVyaeqXJ"
      },
      "execution_count": null,
      "outputs": []
    },
    {
      "cell_type": "code",
      "source": [
        "#fungsi step response\n",
        "def step(t):\n",
        "  if t < 1 :\n",
        "    return 0\n",
        "  else:\n",
        "    return 1"
      ],
      "metadata": {
        "id": "iZkVp3MSe0sP"
      },
      "execution_count": null,
      "outputs": []
    },
    {
      "cell_type": "code",
      "source": [
        "#fungsi input ramp\n",
        "def ramp(t):\n",
        "  if t < 0:\n",
        "    return 0\n",
        "  elif t >= 0:\n",
        "    return t"
      ],
      "metadata": {
        "id": "esdIBEzrgLSI"
      },
      "execution_count": null,
      "outputs": []
    },
    {
      "cell_type": "code",
      "source": [
        "#fungsi impulse input\n",
        "def imp(t):\n",
        "  if t == 0:\n",
        "    return 1\n",
        "  else:\n",
        "    return 0"
      ],
      "metadata": {
        "id": "koA2wU15hcu2"
      },
      "execution_count": null,
      "outputs": []
    },
    {
      "cell_type": "markdown",
      "source": [
        "##STEP"
      ],
      "metadata": {
        "id": "L1AIBHtSimPQ"
      }
    },
    {
      "cell_type": "code",
      "source": [
        "ts = numpy.linspace(0,20,1000)\n",
        "dt = ts[1]\n",
        "y = 0\n",
        "ys = []\n",
        "for t in ts:\n",
        "  dydt = -1/tau*y + 1/tau*step(t)\n",
        "\n",
        "  y += dydt*dt\n",
        "  ys.append(y)"
      ],
      "metadata": {
        "id": "znzMSHFVe616"
      },
      "execution_count": null,
      "outputs": []
    },
    {
      "cell_type": "code",
      "source": [
        "plt.plot(ts, ys)"
      ],
      "metadata": {
        "colab": {
          "base_uri": "https://localhost:8080/",
          "height": 282
        },
        "id": "401DaXgafOte",
        "outputId": "00dff2a2-4a15-4152-efd5-87f7c49b9d1c"
      },
      "execution_count": null,
      "outputs": [
        {
          "output_type": "execute_result",
          "data": {
            "text/plain": [
              "[<matplotlib.lines.Line2D at 0x7ff7e9e84280>]"
            ]
          },
          "metadata": {},
          "execution_count": 25
        },
        {
          "output_type": "display_data",
          "data": {
            "text/plain": [
              "<Figure size 432x288 with 1 Axes>"
            ],
            "image/png": "[encoded data removed]"
          },
          "metadata": {
            "needs_background": "light"
          }
        }
      ]
    },
    {
      "cell_type": "markdown",
      "source": [
        "##RAMP"
      ],
      "metadata": {
        "id": "f7v8A7frin0q"
      }
    },
    {
      "cell_type": "code",
      "source": [
        "ts = numpy.linspace(0,20,1000)\n",
        "dt = ts[1]\n",
        "y = 0\n",
        "ys = []\n",
        "for t in ts:\n",
        "  dydt = -1/tau*y + 1/tau*ramp(t)\n",
        "\n",
        "  y += dydt*dt\n",
        "  ys.append(y)"
      ],
      "metadata": {
        "id": "a_QEnagifUaA"
      },
      "execution_count": null,
      "outputs": []
    },
    {
      "cell_type": "code",
      "source": [
        "plt.plot(ts, ys)"
      ],
      "metadata": {
        "colab": {
          "base_uri": "https://localhost:8080/",
          "height": 282
        },
        "id": "KPgyEw9qgkND",
        "outputId": "7da9ded6-567e-4235-c525-f30961f9967f"
      },
      "execution_count": null,
      "outputs": [
        {
          "output_type": "execute_result",
          "data": {
            "text/plain": [
              "[<matplotlib.lines.Line2D at 0x7ff7e9e60340>]"
            ]
          },
          "metadata": {},
          "execution_count": 27
        },
        {
          "output_type": "display_data",
          "data": {
            "text/plain": [
              "<Figure size 432x288 with 1 Axes>"
            ],
            "image/png": "[encoded data removed]"
          },
          "metadata": {
            "needs_background": "light"
          }
        }
      ]
    },
    {
      "cell_type": "markdown",
      "source": [
        "##IMPULSE"
      ],
      "metadata": {
        "id": "T6_iTHDdiqFu"
      }
    },
    {
      "cell_type": "code",
      "source": [
        "ts = numpy.linspace(0,20,1000)\n",
        "dt = ts[1]\n",
        "y = 0\n",
        "ys = []\n",
        "for t in ts:\n",
        "  dydt = -1/tau*y + 1/tau*imp(t)\n",
        "\n",
        "  y += dydt*dt\n",
        "  ys.append(y)"
      ],
      "metadata": {
        "id": "JZBSDCJOhNw8"
      },
      "execution_count": null,
      "outputs": []
    },
    {
      "cell_type": "code",
      "source": [
        "plt.plot(ts, ys)"
      ],
      "metadata": {
        "colab": {
          "base_uri": "https://localhost:8080/",
          "height": 282
        },
        "id": "bkBbheJQhRtI",
        "outputId": "020f84fb-f905-48cf-d149-9250f1dda25f"
      },
      "execution_count": null,
      "outputs": [
        {
          "output_type": "execute_result",
          "data": {
            "text/plain": [
              "[<matplotlib.lines.Line2D at 0x7ff7e9dc7fd0>]"
            ]
          },
          "metadata": {},
          "execution_count": 31
        },
        {
          "output_type": "display_data",
          "data": {
            "text/plain": [
              "<Figure size 432x288 with 1 Axes>"
            ],
            "image/png": "[encoded data removed]"
          },
          "metadata": {
            "needs_background": "light"
          }
        }
      ]
    },
    {
      "cell_type": "code",
      "source": [],
      "metadata": {
        "id": "f8uwMoRWh-F-"
      },
      "execution_count": null,
      "outputs": []
    }
  ]
}