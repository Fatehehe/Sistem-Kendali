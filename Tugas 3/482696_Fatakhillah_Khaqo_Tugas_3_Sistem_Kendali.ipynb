{
  "nbformat": 4,
  "nbformat_minor": 0,
  "metadata": {
    "colab": {
      "provenance": []
    },
    "kernelspec": {
      "name": "python3",
      "display_name": "Python 3"
    },
    "language_info": {
      "name": "python"
    }
  },
  "cells": [
    {
      "cell_type": "markdown",
      "source": [
        "*   **Nama : Fatakhillah Khaqo**\n",
        "*   **NIM : 21/482696/PA/21041**\n",
        "*   **Kelas : ELA**\n",
        "\n",
        "\n",
        "\n"
      ],
      "metadata": {
        "id": "of6VDLRpQx7r"
      }
    },
    {
      "cell_type": "code",
      "execution_count": null,
      "metadata": {
        "colab": {
          "base_uri": "https://localhost:8080/"
        },
        "id": "kqGmpru8QVEk",
        "outputId": "824279fb-3862-4811-c8ee-4a8f7af6376d"
      },
      "outputs": [
        {
          "output_type": "stream",
          "name": "stdout",
          "text": [
            "Looking in indexes: https://pypi.org/simple, https://us-python.pkg.dev/colab-wheels/public/simple/\n",
            "Collecting tbcontrol\n",
            "  Downloading tbcontrol-0.2.1-py3-none-any.whl (24 kB)\n",
            "Requirement already satisfied: scipy in /usr/local/lib/python3.8/dist-packages (from tbcontrol) (1.10.1)\n",
            "Requirement already satisfied: numpy in /usr/local/lib/python3.8/dist-packages (from tbcontrol) (1.22.4)\n",
            "Requirement already satisfied: packaging in /usr/local/lib/python3.8/dist-packages (from tbcontrol) (23.0)\n",
            "Requirement already satisfied: tqdm in /usr/local/lib/python3.8/dist-packages (from tbcontrol) (4.64.1)\n",
            "Installing collected packages: tbcontrol\n",
            "Successfully installed tbcontrol-0.2.1\n"
          ]
        }
      ],
      "source": [
        "%pip install tbcontrol"
      ]
    },
    {
      "cell_type": "code",
      "source": [
        "import numpy as np\n",
        "import sympy as sp\n",
        "sp.init_printing()\n",
        "from tbcontrol.symbolic import routh as rt\n",
        "from IPython.core.interactiveshell import InteractiveShell\n",
        "InteractiveShell.ast_node_interactivity = 'all'\n",
        "from ipywidgets import interact"
      ],
      "metadata": {
        "id": "Dmh4cIdLRi6k"
      },
      "execution_count": null,
      "outputs": []
    },
    {
      "cell_type": "code",
      "source": [
        "s = sp.Symbol('s')"
      ],
      "metadata": {
        "id": "LlpDjF3RSf3O"
      },
      "execution_count": null,
      "outputs": []
    },
    {
      "cell_type": "code",
      "source": [
        "k = int(input(\"Masukan nilai K = \"))\n",
        "Gs = k/((s*(s**2+s+1)*(s+2))+k)\n",
        "Us = sp.denom(Gs)\n",
        "tabel = rt(Us.as_poly())\n",
        "print(\"U(s) = \")\n",
        "Us\n",
        "print(\"Tabel Routh = \")\n",
        "tabel\n",
        "\n",
        "tabel1 = np.array(tabel)\n",
        "stabil = 1\n",
        "for i in range(len(tabel1)):\n",
        "        if tabel1[i][0] < 0:\n",
        "            stabil = 0\n",
        "            break\n",
        "if stabil == 1:\n",
        "    print(\"Sistem stabil karena semua nilai di kolom pertama positif\")\n",
        "else:\n",
        "    print(\"Sistem tidak stabil karena ada nilai negatif di kolom pertama\")"
      ],
      "metadata": {
        "colab": {
          "base_uri": "https://localhost:8080/",
          "height": 210
        },
        "id": "uq92AbolSGR-",
        "outputId": "43cd4708-4c23-4826-e651-127e0c5f6ba2"
      },
      "execution_count": null,
      "outputs": [
        {
          "output_type": "stream",
          "name": "stdout",
          "text": [
            "Masukan nilai K = 1\n",
            "U(s) = \n"
          ]
        },
        {
          "output_type": "execute_result",
          "data": {
            "text/plain": [
              "          ⎛ 2        ⎞    \n",
              "s⋅(s + 2)⋅⎝s  + s + 1⎠ + 1"
            ],
            "image/png": "[encoded data removed]",
            "text/latex": "$\\displaystyle s \\left(s + 2\\right) \\left(s^{2} + s + 1\\right) + 1$"
          },
          "metadata": {},
          "execution_count": 11
        },
        {
          "output_type": "stream",
          "name": "stdout",
          "text": [
            "Tabel Routh = \n"
          ]
        },
        {
          "output_type": "execute_result",
          "data": {
            "text/plain": [
              "⎡ 1   3  1⎤\n",
              "⎢         ⎥\n",
              "⎢ 3   2  0⎥\n",
              "⎢         ⎥\n",
              "⎢7/3  1  0⎥\n",
              "⎢         ⎥\n",
              "⎢5/7  0  0⎥\n",
              "⎢         ⎥\n",
              "⎣ 1   0  0⎦"
            ],
            "text/latex": "$\\displaystyle \\left[\\begin{matrix}1 & 3 & 1\\\\3 & 2 & 0\\\\\\frac{7}{3} & 1 & 0\\\\\\frac{5}{7} & 0 & 0\\\\1 & 0 & 0\\end{matrix}\\right]$"
          },
          "metadata": {},
          "execution_count": 11
        },
        {
          "output_type": "stream",
          "name": "stdout",
          "text": [
            "Sistem stabil karena semua nilai di kolom pertama positif\n"
          ]
        }
      ]
    },
    {
      "cell_type": "code",
      "source": [],
      "metadata": {
        "id": "VV9KADBeTwE_"
      },
      "execution_count": null,
      "outputs": []
    }
  ]
}